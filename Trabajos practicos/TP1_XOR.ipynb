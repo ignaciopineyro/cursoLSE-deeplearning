{
  "nbformat": 4,
  "nbformat_minor": 0,
  "metadata": {
    "colab": {
      "name": "TP1_XOR.ipynb",
      "provenance": []
    },
    "kernelspec": {
      "name": "python3",
      "display_name": "Python 3"
    },
    "language_info": {
      "name": "python"
    }
  },
  "cells": [
    {
      "cell_type": "code",
      "execution_count": 66,
      "metadata": {
        "id": "IoBJVTRsEEwV"
      },
      "outputs": [],
      "source": [
        "import numpy as np\n",
        "\n",
        "from matplotlib import pyplot as plt"
      ]
    },
    {
      "cell_type": "code",
      "source": [
        "def sigmoid(x):\n",
        "    return 1 / (1 + np.exp(-x))\n",
        "\n",
        "\n",
        "def two_layers_forward(X, W, B, activation_function):\n",
        "    '''\n",
        "    Layer 1 (z_ii_1 linear, a non-linear activated layer)\n",
        "    x: input\n",
        "    w: weights\n",
        "    b: bias\n",
        "\n",
        "    Layer 2 (z_ii_2 linear)\n",
        "    \n",
        "    '''\n",
        "    z_11_1 = W[0] * X[0] + W[1] * X[1] + B[0]\n",
        "    z_12_1 = W[2] * X[0] + W[3] * X[1] + B[1]\n",
        "    a_11_1 = activation_function(z_11_1)\n",
        "    a_12_1 = activation_function(z_12_1)\n",
        "\n",
        "    z_11_2 = W[4] * a_11_1 + W[5] * a_12_1 + B[2]\n",
        "\n",
        "    forward = z_11_2\n",
        "    return forward\n",
        "\n",
        "\n",
        "def loss_function(y, y_hat):\n",
        "    return  abs(y - y_hat) ** 2\n",
        "\n",
        "\n",
        "def L_partial_yhat(y, y_hat):\n",
        "  return (-2) * (y - y_hat)\n",
        "\n",
        "\n",
        "def sigmoid_diff(x):\n",
        "  return (sigmoid(x) * (1 - (sigmoid(x))))\n",
        "\n",
        "\n",
        "def partial_derivate_respect(param, X, y ,y_hat, W, B,) -> float:\n",
        "  if param == 'w_11_1':\n",
        "    z111 = W[0] * X[0] + W[1] * X[1] + B[0]\n",
        "    return L_partial_yhat(y, y_hat) * W[5] * sigmoid_diff(z111) * X[0]\n",
        "  elif param == 'w_12_1':\n",
        "    z111 = W[0] * X[0] + W[1] * X[1] + B[0]\n",
        "    return L_partial_yhat(y, y_hat) * W[5] * sigmoid_diff(z111) * X[1]\n",
        "  elif param == 'w_21_1':\n",
        "    z121 = W[2] * X[0] + W[3] * X[1] + B[1]\n",
        "    return L_partial_yhat(y, y_hat) * W[4] * sigmoid_diff(z121) * X[0]\n",
        "  elif param == 'w_22_1':\n",
        "    z121 = W[2] * X[0] + W[3] * X[1] + B[1]\n",
        "    return L_partial_yhat(y, y_hat) * W[4] * sigmoid_diff(z121) * X[1]\n",
        "  elif param == 'w_11_2':\n",
        "    z111 = W[0] * X[0] + W[1] * X[1] + B[0]\n",
        "    return L_partial_yhat(y, y_hat) * sigmoid(z111)\n",
        "  elif param == 'w_12_2':\n",
        "    z121 = W[2] * X[0] + W[3] * X[1] + B[1]\n",
        "    return L_partial_yhat(y, y_hat) * sigmoid(z121)\n",
        "  elif param == 'b_11':\n",
        "    return L_partial_yhat(y, y_hat) * W[5] * sigmoid_diff(W[0] * X[0] + W[1] * X[0] + B[0]) * 1\n",
        "  elif param == 'b_21':\n",
        "    return L_partial_yhat(y, y_hat) * W[4] * sigmoid_diff(W[2] * X[0] + W[3] * X[1] + B[1]) * 1\n",
        "  elif param == 'b_12':\n",
        "    return L_partial_yhat(y, y_hat) * 1\n",
        "\n",
        "\n",
        "def stochastic_gradient_descent(epochs, X, activation_function):\n",
        "    '''\n",
        "    Initializes weight (len=6) and bias (len=3) values using uniform distribution U(0, 1)\n",
        "    Loops over epochs\n",
        "    Loops over inputs\n",
        "    Computes forward\n",
        "    Computes error\n",
        "    Computes backpropagation\n",
        "    Updates weights and bias values\n",
        "    Computes MSE\n",
        "    Saves values for processing\n",
        "    '''\n",
        "\n",
        "    W = np.random.uniform(0, 1, 6)\n",
        "    B = np.random.uniform(0, 1, 3)\n",
        "\n",
        "    errors = []\n",
        "    mse = []\n",
        "\n",
        "    for epoch in range(epochs):\n",
        "        for x in X:\n",
        "            y_hat = two_layers_forward(x, W, B, activation_function)\n",
        "            y = bool(x[0]) ^ bool(x[1])\n",
        "\n",
        "            W[0] = W[0] - learning_rate * partial_derivate_respect('w_11_1', x, y, y_hat, W, B)\n",
        "            W[1] = W[1] - learning_rate * partial_derivate_respect('w_12_1', x, y, y_hat, W, B)\n",
        "            W[2] = W[2] - learning_rate * partial_derivate_respect('w_21_1', x, y, y_hat, W, B)\n",
        "            W[3] = W[3] - learning_rate * partial_derivate_respect('w_22_1', x, y, y_hat, W, B)\n",
        "            W[4] = W[4] - learning_rate * partial_derivate_respect('w_11_2', x, y, y_hat, W, B)\n",
        "            W[5] = W[5] - learning_rate * partial_derivate_respect('w_12_2', x, y, y_hat, W, B)\n",
        "            B[0] = B[0] - learning_rate * partial_derivate_respect('b_11', x, y, y_hat, W, B)\n",
        "            B[1] = B[1] - learning_rate * partial_derivate_respect('b_21', x, y, y_hat, W, B)\n",
        "            B[2] = B[2] - learning_rate * partial_derivate_respect('b_12', x, y, y_hat, W, B)\n",
        "    \n",
        "            error = loss_function(y, y_hat)\n",
        "            errors.append(error)\n",
        "\n",
        "        mse.append(0.25 * error)\n",
        "\n",
        "    return W, B, errors, mse\n"
      ],
      "metadata": {
        "id": "5nTzr03EGtra"
      },
      "execution_count": 67,
      "outputs": []
    },
    {
      "cell_type": "code",
      "source": [
        "X = np.array([[0,0], [0,1], [1,0], [1,1]]) # Inputs (x_1, x_2)\n",
        "Y = np.array([0, 1, 1, 0]) # Labels (y = x_1 XOR x_2)\n",
        "\n",
        "activation_function = sigmoid\n",
        "epochs = 100\n",
        "learning_rate = 0.01\n",
        "\n",
        "W, B, errors, mse = stochastic_gradient_descent(epochs, X, activation_function)\n",
        "\n",
        "print(f'W = {W} \\nB = {B} \\nMSE = {mse[-1]}')"
      ],
      "metadata": {
        "colab": {
          "base_uri": "https://localhost:8080/"
        },
        "id": "AnZi4YMvMgVn",
        "outputId": "6888a19f-2a31-4a5b-9826-2382e9f031fb"
      },
      "execution_count": 68,
      "outputs": [
        {
          "output_type": "stream",
          "name": "stdout",
          "text": [
            "W = [0.79082708 0.78700332 0.6704765  0.43072896 0.23748955 0.30304499] \n",
            "B = [0.62557398 0.04158075 0.11415754] \n",
            "MSE = 0.08580924096487397\n"
          ]
        }
      ]
    },
    {
      "cell_type": "code",
      "source": [
        "epochs_ = np.arange(epochs)\n",
        "\n",
        "plt.plot(epochs_, mse)\n",
        "plt.title(\"Hard-coded NNET\")\n",
        "plt.xlabel(\"# Epoch\")\n",
        "plt.ylabel(\"MSE\")"
      ],
      "metadata": {
        "colab": {
          "base_uri": "https://localhost:8080/",
          "height": 313
        },
        "id": "uySRoX8aWycW",
        "outputId": "93a43066-0cb7-400d-a6af-5ecc8863961e"
      },
      "execution_count": 69,
      "outputs": [
        {
          "output_type": "execute_result",
          "data": {
            "text/plain": [
              "Text(0, 0.5, 'MSE')"
            ]
          },
          "metadata": {},
          "execution_count": 69
        },
        {
          "output_type": "display_data",
          "data": {
            "text/plain": [
              "<Figure size 432x288 with 1 Axes>"
            ],
            "image/png": "[encoded data removed]"
          },
          "metadata": {
            "needs_background": "light"
          }
        }
      ]
    }
  ]
}